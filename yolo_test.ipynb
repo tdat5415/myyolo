{
 "cells": [
  {
   "cell_type": "code",
   "execution_count": 1,
   "id": "0ad6c248-6e33-4295-90ec-9201ce13b385",
   "metadata": {},
   "outputs": [],
   "source": [
    "import cv2\n",
    "from yolov5.detect import run\n",
    "from IPython.display import clear_output\n",
    "import time"
   ]
  },
  {
   "cell_type": "code",
   "execution_count": 2,
   "id": "b0fdfd73",
   "metadata": {},
   "outputs": [
    {
     "name": "stdout",
     "output_type": "stream",
     "text": [
      "Connected.\n"
     ]
    }
   ],
   "source": [
    "import socket as sk\n",
    "def connection():\n",
    "    HOST = '127.0.0.1'\n",
    "    # HOST = '192.168.0.10'\n",
    "    PORT = 8888\n",
    "    client = sk.socket(sk.AF_INET, sk.SOCK_STREAM)\n",
    "    client.connect((HOST, PORT))\n",
    "    print('Connected.')\n",
    "    return client\n",
    "\n",
    "client = connection()"
   ]
  },
  {
   "cell_type": "code",
   "execution_count": 7,
   "id": "1b237a70-02d3-447d-9b28-392964c80514",
   "metadata": {},
   "outputs": [
    {
     "name": "stdout",
     "output_type": "stream",
     "text": [
      "tensor([[175.79469, 235.09004, 256.24695, 349.70438,   0.41837,   0.00000],\n",
      "        [154.17889,  48.32019, 247.10287, 186.62683,   0.37263,   0.00000]])\n",
      "1645084672.9488993\n"
     ]
    }
   ],
   "source": [
    "# 서버로부터 아무값을 받으면 이미지탐지 실행\n",
    "# 15초동안 못받으면 종료\n",
    "\n",
    "# gen = run(source=\"http://192.168.0.57:8090/video\", weights=\"./yolov5/external_pt/gun_best.pt\")\n",
    "gen = run(source=\"./temp/date.png\", weights=\"./yolov5/external_pt/gun_best.pt\", client=client)\n",
    "names = next(gen)\n",
    "print(\"names : \")\n",
    "print(names)\n",
    "print('#')\n",
    "for img, detection in gen:\n",
    "    clear_output(wait=True)\n",
    "    print(detection)\n",
    "    print(time.time())"
   ]
  },
  {
   "cell_type": "code",
   "execution_count": null,
   "id": "ffeb0685-d75e-4001-9c61-150ef5471bfb",
   "metadata": {},
   "outputs": [],
   "source": [
    "import pytesseract\n",
    "pytesseract.pytesseract.tesseract_cmd = r'C:\\Program Files\\Tesseract-OCR\\tesseract'"
   ]
  },
  {
   "cell_type": "code",
   "execution_count": null,
   "id": "c9835da1-8d90-497f-83ca-864bb79c6e38",
   "metadata": {},
   "outputs": [],
   "source": [
    "\n",
    "print(pytesseract.image_to_string('./temp/우유날짜3.png'))"
   ]
  },
  {
   "cell_type": "code",
   "execution_count": null,
   "id": "714981fb-f29f-435e-ba53-566c08330cb6",
   "metadata": {},
   "outputs": [],
   "source": [
    "import cv2\n",
    "img = cv2.imread('./temp/date2.png', cv2.IMREAD_GRAYSCALE)#.astype(np.float32)\n",
    "# img = cv2.imread('./temp/horse.jpg')#, cv2.IMREAD_GRAYSCALE)#.astype(np.float32)\n",
    "# img"
   ]
  },
  {
   "cell_type": "code",
   "execution_count": null,
   "id": "abbdd075-1ca4-4ca3-8224-52f0c97eefb4",
   "metadata": {},
   "outputs": [],
   "source": [
    "import numpy as np\n",
    "\n",
    "# img = img.astype(np.float32)\n",
    "a = 3.446\n",
    "b = 0.7\n",
    "img = np.clip((img-b*128)*a + b*128, 0, 255).astype(np.uint8)\n",
    "# img"
   ]
  },
  {
   "cell_type": "code",
   "execution_count": null,
   "id": "416ee080",
   "metadata": {},
   "outputs": [],
   "source": [
    "pytesseract.image_to_string(img, config=\"--psm 7 --oem 3 -c tessedit_char_whitelist=0123456789\")#, lang='osd')"
   ]
  },
  {
   "cell_type": "code",
   "execution_count": null,
   "id": "b2975b52-0de2-490e-8ab4-a2c34556a378",
   "metadata": {},
   "outputs": [],
   "source": [
    "cv2.imshow('aasdf', img)\n",
    "cv2.waitKey()\n",
    "cv2.destroyAllWindows()"
   ]
  },
  {
   "cell_type": "code",
   "execution_count": null,
   "id": "4cb57cac-950f-4868-8fb9-30e0b56397dd",
   "metadata": {},
   "outputs": [],
   "source": []
  },
  {
   "cell_type": "code",
   "execution_count": null,
   "id": "b4a5b6f3-b524-46f9-8ff9-7365f810a7ef",
   "metadata": {},
   "outputs": [],
   "source": []
  },
  {
   "cell_type": "code",
   "execution_count": null,
   "id": "264794e3-7fe1-4d07-a471-f43ccbb455c9",
   "metadata": {},
   "outputs": [],
   "source": []
  },
  {
   "cell_type": "code",
   "execution_count": null,
   "id": "c091b95f-e234-497a-bf3a-b081b60709e8",
   "metadata": {},
   "outputs": [],
   "source": []
  }
 ],
 "metadata": {
  "kernelspec": {
   "display_name": "Python 3 (ipykernel)",
   "language": "python",
   "name": "python3"
  },
  "language_info": {
   "codemirror_mode": {
    "name": "ipython",
    "version": 3
   },
   "file_extension": ".py",
   "mimetype": "text/x-python",
   "name": "python",
   "nbconvert_exporter": "python",
   "pygments_lexer": "ipython3",
   "version": "3.8.10"
  }
 },
 "nbformat": 4,
 "nbformat_minor": 5
}
