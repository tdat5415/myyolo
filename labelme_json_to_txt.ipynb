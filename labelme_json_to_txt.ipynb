{
 "cells": [
  {
   "cell_type": "code",
   "execution_count": 3,
   "id": "72b4a624-85f6-44c8-bb36-c40ece9afbdc",
   "metadata": {},
   "outputs": [],
   "source": [
    "import numpy as np\n",
    "import json\n",
    "from mytool import corn2xywh"
   ]
  },
  {
   "cell_type": "code",
   "execution_count": 9,
   "id": "7ae4c396-9e7f-4bc2-9ede-7507dd5b8396",
   "metadata": {},
   "outputs": [
    {
     "name": "stdout",
     "output_type": "stream",
     "text": [
      "['box0', 'box1', 'box2']\n",
      "[[ 82.5203252  181.70731707  69.10569106  59.3495935 ]\n",
      " [328.04878049  37.80487805  69.10569106  52.84552846]\n",
      " [345.93495935 273.57723577  69.10569106  59.3495935 ]]\n",
      "(512, 512)\n"
     ]
    }
   ],
   "source": [
    "def json2label(path):\n",
    "    with open(path, \"r\") as f:\n",
    "        data = json.load(f)\n",
    "    labels = [shape[\"label\"] for shape in data[\"shapes\"]]\n",
    "    boxes = [shape[\"points\"] for shape in data[\"shapes\"]]\n",
    "    boxes = np.array([box[0] + box[1] for box in boxes])\n",
    "    boxes = corn2xywh(boxes)\n",
    "    imgsize = (data[\"imageWidth\"], data[\"imageHeight\"])\n",
    "    return labels, boxes, imgsize\n",
    "\n",
    "labels, boxes, imgsize = json2label(\"./temp/black_t1.json\")\n",
    "print(labels, boxes, imgsize, sep='\\n')"
   ]
  },
  {
   "cell_type": "code",
   "execution_count": 10,
   "id": "c12a5a8b-73e6-4663-9ea2-c3b90327cc20",
   "metadata": {},
   "outputs": [
    {
     "data": {
      "text/plain": [
       "array([[0.16117251, 0.3548971 , 0.13497205, 0.11591717],\n",
       "       [0.64072027, 0.07383765, 0.13497205, 0.10321392],\n",
       "       [0.67565422, 0.53433054, 0.13497205, 0.11591717]])"
      ]
     },
     "execution_count": 10,
     "metadata": {},
     "output_type": "execute_result"
    }
   ],
   "source": [
    "def normalize_boxes(imgsize, boxes): # 0~512 -> 0~1\n",
    "    imgsize = np.concatenate([imgsize, imgsize])\n",
    "    boxes /= imgsize\n",
    "    return boxes\n",
    "\n",
    "normalize_boxes(imgsize, boxes)"
   ]
  },
  {
   "cell_type": "code",
   "execution_count": 12,
   "id": "60dc039f-93d1-44c8-be11-b5c472276a91",
   "metadata": {},
   "outputs": [],
   "source": [
    "def make_text_label(ids, boxes, path): # 숫자, 0~1boxes, 파일이름\n",
    "    assert len(ids) == len(boxes)\n",
    "    with open(path, 'w', encoding=\"utf-8\") as f:\n",
    "        for id, box in zip(ids, boxes):\n",
    "            f.write(\"{} {} {} {} {}\\n\".format(id, *box))"
   ]
  },
  {
   "cell_type": "code",
   "execution_count": 13,
   "id": "99ae0000-10c1-488c-8eac-2c1cd6c246fc",
   "metadata": {},
   "outputs": [],
   "source": [
    "ids = [1,2,3]\n",
    "boxes = np.array([[0.16117251, 0.3548971 , 0.13497205, 0.11591717],\n",
    "       [0.64072027, 0.07383765, 0.13497205, 0.10321392],\n",
    "       [0.67565422, 0.53433054, 0.13497205, 0.11591717]])\n",
    "path = \"./hello.txt\"\n",
    "\n",
    "make_text_label(ids, boxes, path)"
   ]
  },
  {
   "cell_type": "code",
   "execution_count": null,
   "id": "40a90e73-b5b9-4b26-91bc-0e05f3a0af59",
   "metadata": {},
   "outputs": [],
   "source": []
  },
  {
   "cell_type": "code",
   "execution_count": null,
   "id": "3a0fa9e2-6de5-4bdd-96fc-e61c099b9e1c",
   "metadata": {},
   "outputs": [],
   "source": []
  },
  {
   "cell_type": "code",
   "execution_count": null,
   "id": "269ec219-7320-4827-8d4c-068224eb3c85",
   "metadata": {},
   "outputs": [],
   "source": []
  }
 ],
 "metadata": {
  "kernelspec": {
   "display_name": "Python 3 (ipykernel)",
   "language": "python",
   "name": "python3"
  },
  "language_info": {
   "codemirror_mode": {
    "name": "ipython",
    "version": 3
   },
   "file_extension": ".py",
   "mimetype": "text/x-python",
   "name": "python",
   "nbconvert_exporter": "python",
   "pygments_lexer": "ipython3",
   "version": "3.8.10"
  }
 },
 "nbformat": 4,
 "nbformat_minor": 5
}
