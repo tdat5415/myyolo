{
 "cells": [
  {
   "cell_type": "markdown",
   "id": "9838d656",
   "metadata": {},
   "source": [
    "##### 전역변수 선언"
   ]
  },
  {
   "cell_type": "code",
   "execution_count": 4,
   "id": "03775b09",
   "metadata": {},
   "outputs": [],
   "source": [
    "# SOURCE_PATH = \"./temp/date.png\"\n",
    "SOURCE_PATH = \"./temp/shot.jpg\"\n",
    "IMAGE_URL = \"http://192.168.0.57:8090/shot.jpg\"\n",
    "# WEIGHTS_PATH = \"./yolov5/external_pt/gun_best.pt\"\n",
    "WEIGHTS_PATH = \"./yolov5/yolov5s.pt\""
   ]
  },
  {
   "cell_type": "markdown",
   "id": "3e9dac64",
   "metadata": {},
   "source": [
    "##### 소켓서버에 연결"
   ]
  },
  {
   "cell_type": "code",
   "execution_count": 5,
   "id": "b0fdfd73",
   "metadata": {},
   "outputs": [
    {
     "name": "stdout",
     "output_type": "stream",
     "text": [
      "Connected.\n"
     ]
    }
   ],
   "source": [
    "from mytool import connection_for_client\n",
    "\n",
    "client = connection_for_client()"
   ]
  },
  {
   "cell_type": "markdown",
   "id": "4320a66e",
   "metadata": {},
   "source": [
    "##### 모델 실행"
   ]
  },
  {
   "cell_type": "code",
   "execution_count": 6,
   "id": "1b237a70-02d3-447d-9b28-392964c80514",
   "metadata": {},
   "outputs": [
    {
     "name": "stderr",
     "output_type": "stream",
     "text": [
      "YOLOv5  v6.0-253-ga45e472 torch 1.10.2+cpu CPU\n",
      "\n",
      "Fusing layers... \n",
      "Model Summary: 213 layers, 7225885 parameters, 0 gradients\n",
      "WARNING: --img-size (640, 640) must be multiple of max stride 32, updating to [640, 640]\n"
     ]
    },
    {
     "name": "stdout",
     "output_type": "stream",
     "text": [
      "names : \n",
      "['person', 'bicycle', 'car', 'motorcycle', 'airplane', 'bus', 'train', 'truck', 'boat', 'traffic light', 'fire hydrant', 'stop sign', 'parking meter', 'bench', 'bird', 'cat', 'dog', 'horse', 'sheep', 'cow', 'elephant', 'bear', 'zebra', 'giraffe', 'backpack', 'umbrella', 'handbag', 'tie', 'suitcase', 'frisbee', 'skis', 'snowboard', 'sports ball', 'kite', 'baseball bat', 'baseball glove', 'skateboard', 'surfboard', 'tennis racket', 'bottle', 'wine glass', 'cup', 'fork', 'knife', 'spoon', 'bowl', 'banana', 'apple', 'sandwich', 'orange', 'broccoli', 'carrot', 'hot dog', 'pizza', 'donut', 'cake', 'chair', 'couch', 'potted plant', 'bed', 'dining table', 'toilet', 'tv', 'laptop', 'mouse', 'remote', 'keyboard', 'cell phone', 'microwave', 'oven', 'toaster', 'sink', 'refrigerator', 'book', 'clock', 'vase', 'scissors', 'teddy bear', 'hair drier', 'toothbrush']\n",
      "#\n",
      "flag 미수신 15초경과...종료합니다.\n"
     ]
    }
   ],
   "source": [
    "import cv2\n",
    "from yolov5.detect import run\n",
    "from IPython.display import clear_output\n",
    "import time\n",
    "\n",
    "# 서버로부터 아무값을 받으면 이미지탐지 실행\n",
    "# 15초동안 못받으면 종료\n",
    "\n",
    "# gen = run(source=\"http://192.168.0.57:8090/video\", weights=\"./yolov5/external_pt/gun_best.pt\")\n",
    "gen = run(source=SOURCE_PATH, weights=WEIGHTS_PATH, client=client, view_img=True)\n",
    "names = next(gen)\n",
    "print(\"names : \")\n",
    "print(names)\n",
    "print('#')\n",
    "for img, detection in gen:\n",
    "    clear_output(wait=True)\n",
    "    print(detection) # xywh, conf, id\n",
    "    # print(corn2xywh(detection[:,:4]))\n",
    "    print(time.time())\n",
    "    \n",
    "cv2.destroyAllWindows()"
   ]
  },
  {
   "cell_type": "code",
   "execution_count": null,
   "id": "a2769cbb",
   "metadata": {},
   "outputs": [],
   "source": [
    "def crop_image(img, box): # xyxy\n",
    "    crop_img = img[box[1]:box[3], box[0]:box[2]]"
   ]
  },
  {
   "cell_type": "code",
   "execution_count": null,
   "id": "14e753f2",
   "metadata": {},
   "outputs": [],
   "source": [
    "def detect_to_txt(detection, img): # 탐지한 날짜를 리턴\n",
    "    detection = detection.numpy()\n",
    "    ids = detection[:,-1]\n",
    "    boxes = detection[:,:4]\n",
    "    for id, box in zip(ids, boxes):\n",
    "        if id == 1:\n",
    "            crop_img = img[box[1]:box[3], box[0]:box[2]]\n",
    "            # crop_img = cv2.inRange(crop_img, (0,0,0), (120,120,120))\n",
    "            crop_img = cv2.adaptiveThreshold(crop_img,255,cv2.ADAPTIVE_THRESH_GAUSSIAN_C, cv2.THRESH_BINARY,15,2)\n",
    "            text = pytesseract.image_to_string(crop_img, config=\"--psm 7 --oem 3 -c tessedit_char_whitelist=0123456789.\")\n",
    "            return text\n",
    "    else:pass"
   ]
  },
  {
   "cell_type": "code",
   "execution_count": 27,
   "id": "6e528369",
   "metadata": {},
   "outputs": [
    {
     "data": {
      "text/plain": [
       "array([ True, False, False])"
      ]
     },
     "execution_count": 27,
     "metadata": {},
     "output_type": "execute_result"
    }
   ],
   "source": [
    "import numpy as np\n",
    "aa = np.array([1,2,3])\n",
    "np.ga\n",
    "np.where(aa==1, True, False)"
   ]
  },
  {
   "cell_type": "code",
   "execution_count": 25,
   "id": "2be86961",
   "metadata": {},
   "outputs": [
    {
     "data": {
      "text/plain": [
       "array([ True,  True])"
      ]
     },
     "execution_count": 25,
     "metadata": {},
     "output_type": "execute_result"
    }
   ],
   "source": [
    "detection[:,-1] == [66,56]"
   ]
  },
  {
   "cell_type": "code",
   "execution_count": 11,
   "id": "ffeb0685-d75e-4001-9c61-150ef5471bfb",
   "metadata": {},
   "outputs": [],
   "source": [
    "import pytesseract\n",
    "pytesseract.pytesseract.tesseract_cmd = r'C:\\Program Files\\Tesseract-OCR\\tesseract'"
   ]
  },
  {
   "cell_type": "code",
   "execution_count": 20,
   "id": "0b2c840f",
   "metadata": {},
   "outputs": [],
   "source": [
    "import cv2\n",
    "img = cv2.imread('./temp/big_obj_date.png')\n",
    "# img = cv2.inRange(img, (0,0,0), (120,120,120))\n",
    "img = cv2.adaptiveThreshold(img,255,cv2.ADAPTIVE_THRESH_GAUSSIAN_C, cv2.THRESH_BINARY,15,2)\n",
    "\n",
    "cv2.imshow('aasdf', img)\n",
    "cv2.waitKey()\n",
    "cv2.destroyAllWindows()"
   ]
  },
  {
   "cell_type": "code",
   "execution_count": 82,
   "id": "416ee080",
   "metadata": {},
   "outputs": [
    {
     "data": {
      "text/plain": [
       "'2021.05.\\n'"
      ]
     },
     "execution_count": 82,
     "metadata": {},
     "output_type": "execute_result"
    }
   ],
   "source": [
    "# pytesseract.image_to_string(img, config=\"--psm 7 --oem 3 -c tessedit_char_whitelist=0123456789.\")\n",
    "pytesseract.image_to_string(img, config=\"--psm 7 --oem 3 -c tessedit_char_whitelist=0123456789.\")"
   ]
  },
  {
   "cell_type": "code",
   "execution_count": 53,
   "id": "4cb57cac-950f-4868-8fb9-30e0b56397dd",
   "metadata": {},
   "outputs": [],
   "source": [
    "cv2.destroyAllWindows()"
   ]
  },
  {
   "cell_type": "code",
   "execution_count": 30,
   "id": "fcb9147e",
   "metadata": {},
   "outputs": [
    {
     "data": {
      "text/plain": [
       "8"
      ]
     },
     "execution_count": 30,
     "metadata": {},
     "output_type": "execute_result"
    }
   ],
   "source": [
    "cv2.THRESH_OTSU"
   ]
  },
  {
   "cell_type": "code",
   "execution_count": 79,
   "id": "714981fb-f29f-435e-ba53-566c08330cb6",
   "metadata": {},
   "outputs": [],
   "source": [
    "# import cv2\n",
    "# img = cv2.imread('./temp/date2.png')#, cv2.IMREAD_GRAYSCALE)#.astype(np.float32)\n",
    "img = cv2.imread('./temp/big_obj_date.png', cv2.IMREAD_GRAYSCALE)#.astype(np.float32)\n",
    "# img = cv2.imread('./temp/horse.jpg')#, cv2.IMREAD_GRAYSCALE)#.astype(np.float32)"
   ]
  },
  {
   "cell_type": "code",
   "execution_count": 80,
   "id": "3630fa44",
   "metadata": {},
   "outputs": [],
   "source": [
    "# img = cv2.GaussianBlur(img, (5, 5), 0)\n",
    "# img = cv2.threshold(img, 0, 255, cv2.THRESH_BINARY | cv2.THRESH_OTSU, )[1]\n",
    "# img = cv2.adaptiveThreshold(img,255,cv2.ADAPTIVE_THRESH_MEAN_C, cv2.THRESH_BINARY,15,2)\n",
    "img = cv2.adaptiveThreshold(img,255,cv2.ADAPTIVE_THRESH_GAUSSIAN_C, cv2.THRESH_BINARY,15,2) #### 잘되네\n",
    "\n",
    "# img = cv2.GaussianBlur(img, (5, 5), 0)\n",
    "cv2.imshow('test', img)\n",
    "cv2.waitKey(0)\n",
    "cv2.destroyAllWindows()"
   ]
  },
  {
   "cell_type": "code",
   "execution_count": 49,
   "id": "abbdd075-1ca4-4ca3-8224-52f0c97eefb4",
   "metadata": {},
   "outputs": [],
   "source": [
    "# import numpy as np\n",
    "\n",
    "# # img = img.astype(np.float32)\n",
    "# a = 3.446\n",
    "# b = 0.7\n",
    "# img = np.clip((img-b*128)*a + b*128, 0, 255).astype(np.uint8)\n",
    "# # img"
   ]
  },
  {
   "cell_type": "code",
   "execution_count": 193,
   "id": "3ebffa5b",
   "metadata": {},
   "outputs": [],
   "source": [
    "# img = cv2.inRange(img, (0,0,0), (120,120,120))\n",
    "# img = cv2.GaussianBlur(img, (5, 5), 0)\n",
    "# img = cv2.fastNlMeansDenoisingColored(img,None,10,10,7,21)\n",
    "# img = cv2.bilateralFilter(img, 5, 50, 50)"
   ]
  },
  {
   "cell_type": "code",
   "execution_count": 192,
   "id": "8b73ac79",
   "metadata": {},
   "outputs": [],
   "source": [
    "# img = cv2.fastNlMeansDenoisingColored(img,None,10,10,7,21)\n",
    "# img = cv2.bilateralFilter(img, 5, 50, 50)"
   ]
  },
  {
   "cell_type": "code",
   "execution_count": null,
   "id": "b4a5b6f3-b524-46f9-8ff9-7365f810a7ef",
   "metadata": {},
   "outputs": [],
   "source": []
  },
  {
   "cell_type": "code",
   "execution_count": null,
   "id": "264794e3-7fe1-4d07-a471-f43ccbb455c9",
   "metadata": {},
   "outputs": [],
   "source": []
  },
  {
   "cell_type": "code",
   "execution_count": null,
   "id": "c091b95f-e234-497a-bf3a-b081b60709e8",
   "metadata": {},
   "outputs": [],
   "source": []
  }
 ],
 "metadata": {
  "kernelspec": {
   "display_name": "Python 3 (ipykernel)",
   "language": "python",
   "name": "python3"
  },
  "language_info": {
   "codemirror_mode": {
    "name": "ipython",
    "version": 3
   },
   "file_extension": ".py",
   "mimetype": "text/x-python",
   "name": "python",
   "nbconvert_exporter": "python",
   "pygments_lexer": "ipython3",
   "version": "3.8.10"
  }
 },
 "nbformat": 4,
 "nbformat_minor": 5
}
