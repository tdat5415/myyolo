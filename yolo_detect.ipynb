{
 "cells": [
  {
   "cell_type": "markdown",
   "id": "9838d656",
   "metadata": {},
   "source": [
    "##### 전역변수 선언"
   ]
  },
  {
   "cell_type": "code",
   "execution_count": 1,
   "id": "03775b09",
   "metadata": {},
   "outputs": [],
   "source": [
    "# SOURCE_PATH = \"./temp/date.png\"\n",
    "SOURCE_PATH = \"./temp/shot.jpg\"\n",
    "IMAGE_URL = \"http://192.168.0.57:8090/shot.jpg\"\n",
    "# WEIGHTS_PATH = \"./yolov5/external_pt/gun_best.pt\"\n",
    "WEIGHTS_PATH = \"./yolov5/yolov5s.pt\""
   ]
  },
  {
   "cell_type": "markdown",
   "id": "3e9dac64",
   "metadata": {},
   "source": [
    "##### 소켓서버에 연결"
   ]
  },
  {
   "cell_type": "code",
   "execution_count": 2,
   "id": "b0fdfd73",
   "metadata": {},
   "outputs": [
    {
     "name": "stdout",
     "output_type": "stream",
     "text": [
      "Connected.\n"
     ]
    }
   ],
   "source": [
    "from mytool import connection_for_client\n",
    "\n",
    "client = connection_for_client()"
   ]
  },
  {
   "cell_type": "markdown",
   "id": "4320a66e",
   "metadata": {},
   "source": [
    "##### 모델 실행"
   ]
  },
  {
   "cell_type": "code",
   "execution_count": 8,
   "id": "1b237a70-02d3-447d-9b28-392964c80514",
   "metadata": {},
   "outputs": [
    {
     "name": "stdout",
     "output_type": "stream",
     "text": [
      "tensor([[2.00000e+00, 4.54000e+02, 7.19000e+02, 9.06000e+02, 8.19599e-01, 6.60000e+01],\n",
      "        [1.00000e+00, 1.00000e+00, 4.05000e+02, 2.51000e+02, 2.58794e-01, 5.60000e+01]])\n",
      "1645160119.458365\n",
      "flag 미수신 15초경과...종료합니다.\n"
     ]
    }
   ],
   "source": [
    "import cv2\n",
    "from yolov5.detect import run\n",
    "from IPython.display import clear_output\n",
    "import time\n",
    "\n",
    "# 서버로부터 아무값을 받으면 이미지탐지 실행\n",
    "# 15초동안 못받으면 종료\n",
    "\n",
    "# gen = run(source=\"http://192.168.0.57:8090/video\", weights=\"./yolov5/external_pt/gun_best.pt\")\n",
    "gen = run(source=SOURCE_PATH, weights=WEIGHTS_PATH, client=client, view_img=True)\n",
    "names = next(gen)\n",
    "print(\"names : \")\n",
    "print(names)\n",
    "print('#')\n",
    "for img, detection in gen:\n",
    "    clear_output(wait=True)\n",
    "    print(detection) # xywh, conf, id\n",
    "    # print(corn2xywh(detection[:,:4]))\n",
    "    print(time.time())\n",
    "    \n",
    "cv2.destroyAllWindows()"
   ]
  },
  {
   "cell_type": "code",
   "execution_count": null,
   "id": "a2769cbb",
   "metadata": {},
   "outputs": [],
   "source": [
    "def crop_image(img, box): # xyxy\n",
    "    crop_img = img[box[1]:box[3], box[0]:box[2]]"
   ]
  },
  {
   "cell_type": "code",
   "execution_count": null,
   "id": "14e753f2",
   "metadata": {},
   "outputs": [],
   "source": []
  },
  {
   "cell_type": "code",
   "execution_count": null,
   "id": "2be86961",
   "metadata": {},
   "outputs": [],
   "source": []
  },
  {
   "cell_type": "code",
   "execution_count": 14,
   "id": "ffeb0685-d75e-4001-9c61-150ef5471bfb",
   "metadata": {},
   "outputs": [],
   "source": [
    "import pytesseract\n",
    "pytesseract.pytesseract.tesseract_cmd = r'C:\\Program Files\\Tesseract-OCR\\tesseract'"
   ]
  },
  {
   "cell_type": "code",
   "execution_count": 209,
   "id": "0b2c840f",
   "metadata": {},
   "outputs": [],
   "source": [
    "import cv2\n",
    "img = cv2.imread('./temp/big_obj_date.png')\n",
    "img = cv2.inRange(img, (0,0,0), (120,120,120))\n",
    "\n",
    "cv2.imshow('aasdf', img)\n",
    "cv2.waitKey()\n",
    "cv2.destroyAllWindows()"
   ]
  },
  {
   "cell_type": "code",
   "execution_count": 195,
   "id": "416ee080",
   "metadata": {},
   "outputs": [
    {
     "data": {
      "text/plain": [
       "'2021.05\\n'"
      ]
     },
     "execution_count": 195,
     "metadata": {},
     "output_type": "execute_result"
    }
   ],
   "source": [
    "pytesseract.image_to_string(img, config=\"--psm 7 --oem 3 -c tessedit_char_whitelist=0123456789.\")#, lang='osd')"
   ]
  },
  {
   "cell_type": "code",
   "execution_count": 53,
   "id": "4cb57cac-950f-4868-8fb9-30e0b56397dd",
   "metadata": {},
   "outputs": [],
   "source": [
    "cv2.destroyAllWindows()"
   ]
  },
  {
   "cell_type": "code",
   "execution_count": 191,
   "id": "714981fb-f29f-435e-ba53-566c08330cb6",
   "metadata": {},
   "outputs": [],
   "source": [
    "# import cv2\n",
    "# img = cv2.imread('./temp/date2.png')#, cv2.IMREAD_GRAYSCALE)#.astype(np.float32)\n",
    "# img = cv2.imread('./temp/big_obj_date.png')#, cv2.IMREAD_GRAYSCALE)#.astype(np.float32)\n",
    "# img = cv2.imread('./temp/horse.jpg')#, cv2.IMREAD_GRAYSCALE)#.astype(np.float32)\n",
    "# img"
   ]
  },
  {
   "cell_type": "code",
   "execution_count": 180,
   "id": "abbdd075-1ca4-4ca3-8224-52f0c97eefb4",
   "metadata": {},
   "outputs": [],
   "source": [
    "# import numpy as np\n",
    "\n",
    "# # img = img.astype(np.float32)\n",
    "# a = 3.446\n",
    "# b = 0.7\n",
    "# img = np.clip((img-b*128)*a + b*128, 0, 255).astype(np.uint8)\n",
    "# # img"
   ]
  },
  {
   "cell_type": "code",
   "execution_count": 193,
   "id": "3ebffa5b",
   "metadata": {},
   "outputs": [],
   "source": [
    "# img = cv2.inRange(img, (0,0,0), (120,120,120))\n",
    "# img = cv2.GaussianBlur(img, (5, 5), 0)\n",
    "# img = cv2.fastNlMeansDenoisingColored(img,None,10,10,7,21)\n",
    "# img = cv2.bilateralFilter(img, 5, 50, 50)"
   ]
  },
  {
   "cell_type": "code",
   "execution_count": 192,
   "id": "8b73ac79",
   "metadata": {},
   "outputs": [],
   "source": [
    "# img = cv2.fastNlMeansDenoisingColored(img,None,10,10,7,21)\n",
    "# img = cv2.bilateralFilter(img, 5, 50, 50)"
   ]
  },
  {
   "cell_type": "code",
   "execution_count": null,
   "id": "b4a5b6f3-b524-46f9-8ff9-7365f810a7ef",
   "metadata": {},
   "outputs": [],
   "source": []
  },
  {
   "cell_type": "code",
   "execution_count": null,
   "id": "264794e3-7fe1-4d07-a471-f43ccbb455c9",
   "metadata": {},
   "outputs": [],
   "source": []
  },
  {
   "cell_type": "code",
   "execution_count": null,
   "id": "c091b95f-e234-497a-bf3a-b081b60709e8",
   "metadata": {},
   "outputs": [],
   "source": []
  }
 ],
 "metadata": {
  "kernelspec": {
   "display_name": "Python 3 (ipykernel)",
   "language": "python",
   "name": "python3"
  },
  "language_info": {
   "codemirror_mode": {
    "name": "ipython",
    "version": 3
   },
   "file_extension": ".py",
   "mimetype": "text/x-python",
   "name": "python",
   "nbconvert_exporter": "python",
   "pygments_lexer": "ipython3",
   "version": "3.8.10"
  }
 },
 "nbformat": 4,
 "nbformat_minor": 5
}
