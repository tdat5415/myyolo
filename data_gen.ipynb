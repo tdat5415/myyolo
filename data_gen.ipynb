{
 "cells": [
  {
   "cell_type": "code",
   "execution_count": null,
   "metadata": {},
   "outputs": [],
   "source": [
    "import os\n",
    "from mytool import json2label, normalize_boxes, make_text_label\n",
    "\n"
   ]
  },
  {
   "cell_type": "markdown",
   "metadata": {},
   "source": [
    "##### 전역변수 선언"
   ]
  },
  {
   "cell_type": "code",
   "execution_count": 18,
   "metadata": {},
   "outputs": [],
   "source": [
    "import os\n",
    "\n",
    "DATASET_DIR_PATH = \"./dataset\"\n",
    "SAVE_IMAGES_DIR_PATH = os.path.join(DATASET_DIR_PATH, \"images\")\n",
    "SAVE_LABELS_DIR_PATH = os.path.join(DATASET_DIR_PATH, \"labels\")\n",
    "BG_IMG_DIR_PATH = \"./seed_data/conveyor_img\"\n",
    "OBG_IMG_DIR_PATH = \"./seed_data/product_imgs\"\n",
    "OBG_JSON_DIR_PATH = \"./seed_data/product_json\"\n",
    "\n",
    "NAME_TO_ID = {\"obj\":0, \"date\":1}"
   ]
  },
  {
   "cell_type": "code",
   "execution_count": 8,
   "metadata": {},
   "outputs": [],
   "source": [
    "# 폴더 없으면 만들기\n",
    "import os\n",
    "\n",
    "for path in [DATASET_DIR_PATH, SAVE_IMAGES_DIR_PATH, SAVE_LABELS_DIR_PATH]:\n",
    "    if not os.path.exists(path):\n",
    "        os.makedirs(path)"
   ]
  },
  {
   "cell_type": "markdown",
   "metadata": {},
   "source": [
    "##### 이미지 증축"
   ]
  },
  {
   "cell_type": "code",
   "execution_count": 16,
   "metadata": {},
   "outputs": [],
   "source": [
    "import cv2\n",
    "import random as rd\n",
    "def random_resize(product_img, img_size, boxes): # 0.7 ~ 1.5\n",
    "    alpha = 0.8*rd.random() + 0.7\n",
    "    new_size = np.array(img_size) * alpha\n",
    "    new_boxes = boxes * alpha\n",
    "    new_img = cv2.resize(product_img, new_size)\n",
    "    return new_img, new_size, new_boxes\n",
    "\n",
    "import random as rd\n",
    "def random_point(bg_size, img_size):\n",
    "    range_x = bg_size[0] - img_size[0]\n",
    "    range_y = bg_size[1] - img_size[1]\n",
    "    return rd.randint(0, range_x), rd.randint(0, range_y)\n",
    "\n",
    "def synthetic_img(product_img, bg_img, img_size, r_xy):\n",
    "    r_x, r_y = r_xy\n",
    "    x, y = img_size\n",
    "    assert r_x+x <= bg_img.shape[1] and r_y+y <= bg_img.shape[0], \"합성범위 넘어감\"\n",
    "    bg_img[r_y:r_y+y, r_x:r_x+x] = product_img\n",
    "    return bg_img\n",
    "\n",
    "import numpy as np\n",
    "from mytool import normalize_boxes\n",
    "def gen_data_one(product_img, product_label, bg_img): # return img, shape(n,5)\n",
    "    names, boxes, imgsize = product_label # 제품과 날짜 box\n",
    "    assert product_img.shape[::-1] == imgsize\n",
    "    \n",
    "    bg_size = bg_img.shape[::-1]\n",
    "    product_img, img_size, boxes = random_resize(product_img, img_size, boxes) # 제품이미지와 박스 사이즈 변경\n",
    "    r_xy = random_point(bg_size, img_size) # 배경이미지안의 랜덤좌표\n",
    "    assert type(r_xy) == tuple\n",
    "    new_img = synthetic_img(product_img, bg_img, img_size, r_xy) # 이미지합성\n",
    "    boxes += r_xy*2 # (a,b,a,b) # 이동한 만큼 박스 좌표도 변경\n",
    "\n",
    "    ids = np.array([NAME_TO_ID[name] for name in names])[:,None]\n",
    "    boxes = normalize_boxes(bg_size, boxes) # ndarray\n",
    "    assert len(ids)==len(boxes)\n",
    "    label = np.concatenate([ids, boxes], axis=-1)\n",
    "    return new_img, label\n",
    "    \n",
    "\n",
    "import cv2\n",
    "from glob import glob\n",
    "import random as rd\n",
    "from mytool import json2label, make_text_label\n",
    "def gen_data():\n",
    "    bg_img_path = glob(BG_IMG_DIR_PATH + \"/*.jpg\")[0]\n",
    "    bg_img = cv2.imread(bg_img_path)\n",
    "    product_img_paths = sorted(glob(OBG_IMG_DIR_PATH + \"/*.jpg\"))\n",
    "    product_json_paths = sorted(glob(OBG_JSON_DIR_PATH + \"/*.json\"))\n",
    "    product_imgs = [cv2.imread(path) for path in product_img_paths]\n",
    "    product_labels = [json2label(path) for path in product_json_paths]\n",
    "    for i in range(1000):\n",
    "        v = rd.choice(range(len(product_imgs)))\n",
    "        img, label = gen_data_one(product_imgs[v], product_labels[v], bg_img) # img, shape(n, 5) # 0 0.123 0.234 0.345 0.456\n",
    "        cv2.imwrite(SAVE_IMAGES_DIR_PATH + \"/\" + f\"{i:04d}.jpg\", img)\n",
    "        make_text_label(label[:,0], label[:, 1:], SAVE_LABELS_DIR_PATH + \"/\" + f\"{i:04d}.txt\")"
   ]
  },
  {
   "cell_type": "code",
   "execution_count": null,
   "metadata": {},
   "outputs": [],
   "source": []
  },
  {
   "cell_type": "code",
   "execution_count": null,
   "metadata": {},
   "outputs": [],
   "source": []
  },
  {
   "cell_type": "code",
   "execution_count": null,
   "metadata": {},
   "outputs": [],
   "source": []
  },
  {
   "cell_type": "code",
   "execution_count": null,
   "metadata": {},
   "outputs": [],
   "source": []
  },
  {
   "cell_type": "code",
   "execution_count": null,
   "metadata": {},
   "outputs": [],
   "source": []
  },
  {
   "cell_type": "code",
   "execution_count": null,
   "metadata": {},
   "outputs": [],
   "source": []
  }
 ],
 "metadata": {
  "interpreter": {
   "hash": "57f3a4084d9bbea5e2496975c38f9f0c4e2cb16976f2cda4d07e2a8c664c7c73"
  },
  "kernelspec": {
   "display_name": "Python 3.8.10 ('myyolo')",
   "language": "python",
   "name": "python3"
  },
  "language_info": {
   "codemirror_mode": {
    "name": "ipython",
    "version": 3
   },
   "file_extension": ".py",
   "mimetype": "text/x-python",
   "name": "python",
   "nbconvert_exporter": "python",
   "pygments_lexer": "ipython3",
   "version": "3.8.10"
  },
  "orig_nbformat": 4
 },
 "nbformat": 4,
 "nbformat_minor": 2
}
