{
 "cells": [
  {
   "cell_type": "markdown",
   "metadata": {},
   "source": [
    "##### 전역변수 선언"
   ]
  },
  {
   "cell_type": "code",
   "execution_count": 1,
   "metadata": {},
   "outputs": [],
   "source": [
    "import os\n",
    "\n",
    "DATASET_DIR_PATH = \"./dataset\"\n",
    "SAVE_IMAGES_DIR_PATH = os.path.join(DATASET_DIR_PATH, \"images\")\n",
    "SAVE_LABELS_DIR_PATH = os.path.join(DATASET_DIR_PATH, \"labels\")\n",
    "BG_IMG_DIR_PATH = \"./seed_data/conveyor_img\"\n",
    "OBG_IMG_DIR_PATH = \"./seed_data/product_imgs\"\n",
    "OBG_JSON_DIR_PATH = \"./seed_data/product_json\"\n",
    "\n",
    "NAME_TO_ID = {\"obj\":0, \"date\":1}"
   ]
  },
  {
   "cell_type": "code",
   "execution_count": 2,
   "metadata": {},
   "outputs": [],
   "source": [
    "# # 폴더 없으면 만들기\n",
    "# import os\n",
    "\n",
    "# for path in [DATASET_DIR_PATH, SAVE_IMAGES_DIR_PATH, SAVE_LABELS_DIR_PATH]:\n",
    "#     if not os.path.exists(path):\n",
    "#         os.makedirs(path)"
   ]
  },
  {
   "cell_type": "markdown",
   "metadata": {},
   "source": [
    "##### 이미지 증축"
   ]
  },
  {
   "cell_type": "code",
   "execution_count": 1,
   "metadata": {},
   "outputs": [
    {
     "name": "stderr",
     "output_type": "stream",
     "text": [
      "100%|██████████| 5/5 [00:00<00:00, 45.99it/s]\n"
     ]
    }
   ],
   "source": [
    "from mytool import gen_data\n",
    "gen_data(NAME_TO_ID, 5)"
   ]
  },
  {
   "cell_type": "markdown",
   "metadata": {},
   "source": [
    "##### 바운딩박스 확인해보기"
   ]
  },
  {
   "cell_type": "code",
   "execution_count": 2,
   "metadata": {},
   "outputs": [],
   "source": [
    "from mytool import show_annotaion\n",
    "\n",
    "img_path = \"./dataset/images/0002.jpg\"\n",
    "txt_path = \"./dataset/labels/0002.txt\"\n",
    "\n",
    "show_annotaion(img_path, txt_path)"
   ]
  },
  {
   "cell_type": "code",
   "execution_count": null,
   "metadata": {},
   "outputs": [],
   "source": []
  }
 ],
 "metadata": {
  "interpreter": {
   "hash": "57f3a4084d9bbea5e2496975c38f9f0c4e2cb16976f2cda4d07e2a8c664c7c73"
  },
  "kernelspec": {
   "display_name": "Python 3.8.10 ('myyolo')",
   "language": "python",
   "name": "python3"
  },
  "language_info": {
   "codemirror_mode": {
    "name": "ipython",
    "version": 3
   },
   "file_extension": ".py",
   "mimetype": "text/x-python",
   "name": "python",
   "nbconvert_exporter": "python",
   "pygments_lexer": "ipython3",
   "version": "3.8.10"
  },
  "orig_nbformat": 4
 },
 "nbformat": 4,
 "nbformat_minor": 2
}
