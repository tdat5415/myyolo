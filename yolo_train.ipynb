{
 "cells": [
  {
   "cell_type": "markdown",
   "metadata": {},
   "source": [
    "##### data.yaml 확인해보기"
   ]
  },
  {
   "cell_type": "code",
   "execution_count": 7,
   "metadata": {},
   "outputs": [
    {
     "name": "stdout",
     "output_type": "stream",
     "text": [
      "train: ../train/images\n",
      "val: ../valid/images\n",
      "\n",
      "nc: 8\n",
      "names: ['button', 'field', 'heading', 'iframe', 'image', 'label', 'link', 'text']\n"
     ]
    }
   ],
   "source": [
    "import os\n",
    "\n",
    "root_path = os.getcwd()\n",
    "with open(os.path.join(root_path, 'dataset/data.yaml'), 'r') as f:\n",
    "    print(f.read())"
   ]
  },
  {
   "cell_type": "markdown",
   "metadata": {},
   "source": [
    "##### 이미지 경로 텍스트파일 만들기"
   ]
  },
  {
   "cell_type": "code",
   "execution_count": 8,
   "metadata": {},
   "outputs": [
    {
     "name": "stdout",
     "output_type": "stream",
     "text": [
      "0 0 0\n"
     ]
    }
   ],
   "source": [
    "from glob import glob\n",
    "import os\n",
    "\n",
    "train_img_list = glob(os.path.join(root_path, 'dataset/train/images/*.jpg'))\n",
    "valid_img_list = glob(os.path.join(root_path, 'dataset/valid/images/*.jpg'))\n",
    "test_img_list = glob(os.path.join(root_path, 'dataset/test/images/*.jpg'))\n",
    "\n",
    "print(len(train_img_list), len(valid_img_list), len(test_img_list))\n",
    "\n",
    "with open(os.path.join(root_path, 'dataset/train.txt'), 'w') as f:\n",
    "    f.write('\\n'.join(train_img_list) + '\\n')\n",
    "\n",
    "with open(os.path.join(root_path, 'dataset/valid.txt'), 'w') as f:\n",
    "    f.write('\\n'.join(valid_img_list) + '\\n')"
   ]
  },
  {
   "cell_type": "markdown",
   "metadata": {},
   "source": [
    "##### yaml 파일 수정하기"
   ]
  },
  {
   "cell_type": "code",
   "execution_count": null,
   "metadata": {},
   "outputs": [],
   "source": [
    "import yaml\n",
    "\n",
    "with open(os.path.join(root_path, 'dataset/data.yaml'), 'r') as f:\n",
    "    data = yaml.load(f, yaml.FullLoader)\n",
    "\n",
    "print(\"before :\", data)\n",
    "\n",
    "data['train'] = os.path.join(root_path, 'dataset/train.txt')\n",
    "data['val'] = os.path.join(root_path, 'dataset/valid.txt')\n",
    "\n",
    "with open('/content/dataset/data.yaml', 'w') as f:\n",
    "    yaml.dump(data, f)\n",
    "\n",
    "print(\"after :\", data)"
   ]
  },
  {
   "cell_type": "markdown",
   "metadata": {},
   "source": [
    "##### Train"
   ]
  },
  {
   "cell_type": "code",
   "execution_count": 18,
   "metadata": {},
   "outputs": [
    {
     "name": "stdout",
     "output_type": "stream",
     "text": [
      "['c:\\\\_MAIN\\\\SPACE\\\\yolo_test\\\\test.py', '--img', '416', '--batch', '16', '--epochs', '20', '--data', 'c:\\\\_MAIN\\\\SPACE\\\\yolo_test\\\\dataset/data.yaml', '--cfg', 'c:\\\\_MAIN\\\\SPACE\\\\yolo_test\\\\yolov5/models/yolov5.yaml', '--weights', 'c:\\\\_MAIN\\\\SPACE\\\\yolo_test\\\\yolov5/runs/train/webtext/weights/best.pt', '--name', 'webtext']\n",
      "asdf\n"
     ]
    }
   ],
   "source": [
    "myname = \"webtext\"\n",
    "py_path = os.path.join(root_path, \"yolov5/train.py\")\n",
    "data_yaml_path = os.path.join(root_path, \"dataset/data.yaml\")\n",
    "yolo_yaml_path = os.path.join(root_path, \"yolov5/models/yolov5.yaml\")\n",
    "pt_path = os.path.join(root_path, f\"yolov5/runs/train/{myname}/weights/best.pt\")\n",
    "\n",
    "!python \\\n",
    "    {py_path} --img 416 --batch 16 --epochs 20 --data {data_yaml_path} \\\n",
    "    --cfg {yolo_yaml_path} --weights {pt_path} --name {myname}"
   ]
  },
  {
   "cell_type": "code",
   "execution_count": null,
   "metadata": {},
   "outputs": [],
   "source": []
  },
  {
   "cell_type": "code",
   "execution_count": null,
   "metadata": {},
   "outputs": [],
   "source": []
  }
 ],
 "metadata": {
  "interpreter": {
   "hash": "57f3a4084d9bbea5e2496975c38f9f0c4e2cb16976f2cda4d07e2a8c664c7c73"
  },
  "kernelspec": {
   "display_name": "Python 3 (ipykernel)",
   "language": "python",
   "name": "python3"
  },
  "language_info": {
   "codemirror_mode": {
    "name": "ipython",
    "version": 3
   },
   "file_extension": ".py",
   "mimetype": "text/x-python",
   "name": "python",
   "nbconvert_exporter": "python",
   "pygments_lexer": "ipython3",
   "version": "3.8.10"
  }
 },
 "nbformat": 4,
 "nbformat_minor": 4
}
