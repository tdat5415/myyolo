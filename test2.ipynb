{
 "cells": [
  {
   "cell_type": "code",
   "execution_count": 13,
   "metadata": {},
   "outputs": [
    {
     "name": "stdout",
     "output_type": "stream",
     "text": [
      "Connected.\n",
      "('127.0.0.1', 62506)\n"
     ]
    }
   ],
   "source": [
    "import socket as sk\n",
    "\n",
    "def connection():\n",
    "    HOST = ''\n",
    "    PORT = 8888\n",
    "    server = sk.socket(sk.AF_INET, sk.SOCK_STREAM)\n",
    "    server.bind((HOST, PORT))\n",
    "    server.listen(1)\n",
    "    with_client, addr = server.accept()\n",
    "    print('Connected.')\n",
    "    print(addr)\n",
    "    return with_client\n",
    "\n",
    "with_client = connection()"
   ]
  },
  {
   "cell_type": "code",
   "execution_count": 14,
   "metadata": {},
   "outputs": [],
   "source": [
    "import time\n",
    "for i in range(10):\n",
    "    with_client.send(b'hello')\n",
    "    time.sleep(2)"
   ]
  },
  {
   "cell_type": "code",
   "execution_count": 8,
   "metadata": {},
   "outputs": [
    {
     "name": "stdout",
     "output_type": "stream",
     "text": [
      "b'hihi'\n"
     ]
    }
   ],
   "source": [
    "with_client.settimeout(3)\n",
    "try:\n",
    "    data = with_client.recv(1024)\n",
    "    print(data)\n",
    "except sk.timeout as e:\n",
    "    print(e)"
   ]
  },
  {
   "cell_type": "code",
   "execution_count": null,
   "metadata": {},
   "outputs": [],
   "source": []
  },
  {
   "cell_type": "code",
   "execution_count": null,
   "metadata": {},
   "outputs": [],
   "source": []
  },
  {
   "cell_type": "code",
   "execution_count": null,
   "metadata": {},
   "outputs": [],
   "source": []
  }
 ],
 "metadata": {
  "interpreter": {
   "hash": "57f3a4084d9bbea5e2496975c38f9f0c4e2cb16976f2cda4d07e2a8c664c7c73"
  },
  "kernelspec": {
   "display_name": "Python 3.8.10 ('myyolo')",
   "language": "python",
   "name": "python3"
  },
  "language_info": {
   "codemirror_mode": {
    "name": "ipython",
    "version": 3
   },
   "file_extension": ".py",
   "mimetype": "text/x-python",
   "name": "python",
   "nbconvert_exporter": "python",
   "pygments_lexer": "ipython3",
   "version": "3.8.10"
  },
  "orig_nbformat": 4
 },
 "nbformat": 4,
 "nbformat_minor": 2
}
