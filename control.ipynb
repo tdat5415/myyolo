{
 "cells": [
  {
   "cell_type": "markdown",
   "metadata": {},
   "source": [
    "##### 클라이언트 연결 대기"
   ]
  },
  {
   "cell_type": "code",
   "execution_count": 5,
   "metadata": {},
   "outputs": [
    {
     "name": "stdout",
     "output_type": "stream",
     "text": [
      "Connected.\n",
      "('127.0.0.1', 64417)\n"
     ]
    }
   ],
   "source": [
    "from mytool import connection_for_server\n",
    "\n",
    "with_client = connection_for_server()"
   ]
  },
  {
   "cell_type": "code",
   "execution_count": null,
   "metadata": {},
   "outputs": [],
   "source": [
    "with_client.recv()"
   ]
  },
  {
   "cell_type": "code",
   "execution_count": 4,
   "metadata": {},
   "outputs": [
    {
     "data": {
      "text/plain": [
       "CompletedProcess(args='python ./test2.py', returncode=1, stdout=b'', stderr=b'Traceback (most recent call last):\\r\\n  File \"./test2.py\", line 1, in <module>\\r\\n    from mytool import connection_for_client\\r\\n  File \"c:\\\\_MAIN\\\\SPACE\\\\myyolo\\\\mytool.py\", line 91, in <module>\\r\\n    import cv2\\r\\nModuleNotFoundError: No module named \\'cv2\\'\\r\\n')"
      ]
     },
     "execution_count": 4,
     "metadata": {},
     "output_type": "execute_result"
    }
   ],
   "source": [
    "import subprocess\n",
    "subprocess.run(\"python ./test2.py\", capture_output=True, shell=True)"
   ]
  },
  {
   "cell_type": "code",
   "execution_count": 66,
   "metadata": {},
   "outputs": [],
   "source": [
    "import requests\n",
    "\n",
    "# \"http://192.168.0.57:8090/shot.jpg\"\n",
    "def download_image(image_url, save_path):\n",
    "    res = requests.get(image_url, stream=True)\n",
    "    if res.status_code==200:\n",
    "        with open(save_path, 'wb') as f:\n",
    "            f.write(res.content)\n",
    "        "
   ]
  },
  {
   "cell_type": "code",
   "execution_count": null,
   "metadata": {},
   "outputs": [],
   "source": [
    "SOURCE_PATH = \"./temp/shot.jpg\"\n",
    "IMAGE_URL = \"http://192.168.0.57:8090/shot.jpg\"\n",
    "\n",
    "import time\n",
    "for i in range(10):\n",
    "    download_image(IMAGE_URL, SOURCE_PATH)\n",
    "    with_client.send(b'hello')\n",
    "    time.sleep(2)"
   ]
  },
  {
   "cell_type": "code",
   "execution_count": 92,
   "metadata": {},
   "outputs": [
    {
     "data": {
      "text/plain": [
       "5"
      ]
     },
     "execution_count": 92,
     "metadata": {},
     "output_type": "execute_result"
    }
   ],
   "source": [
    "SOURCE_PATH = \"./temp/shot.jpg\"\n",
    "IMAGE_URL = \"http://192.168.0.57:8090/shot.jpg\"\n",
    "\n",
    "download_image(IMAGE_URL, SOURCE_PATH)\n",
    "with_client.send(b'hello')"
   ]
  },
  {
   "cell_type": "code",
   "execution_count": 29,
   "metadata": {},
   "outputs": [
    {
     "data": {
      "text/plain": [
       "CompletedProcess(args='python temp/test.py', returncode=0, stdout=b\"['temp/test.py']\\r\\nasdf\\r\\n\", stderr=b'')"
      ]
     },
     "execution_count": 29,
     "metadata": {},
     "output_type": "execute_result"
    }
   ],
   "source": [
    "import subprocess\n",
    "\n",
    "aa = subprocess.run(\"python temp/test.py\", capture_output=True, shell=True)#, encoding='utf-8')\n",
    "# aa = subprocess.run(\"dir\", capture_output=True, shell=True)\n",
    "aa\n"
   ]
  }
 ],
 "metadata": {
  "interpreter": {
   "hash": "57f3a4084d9bbea5e2496975c38f9f0c4e2cb16976f2cda4d07e2a8c664c7c73"
  },
  "kernelspec": {
   "display_name": "Python 3.8.10 ('myyolo')",
   "language": "python",
   "name": "python3"
  },
  "language_info": {
   "codemirror_mode": {
    "name": "ipython",
    "version": 3
   },
   "file_extension": ".py",
   "mimetype": "text/x-python",
   "name": "python",
   "nbconvert_exporter": "python",
   "pygments_lexer": "ipython3",
   "version": "3.8.10"
  },
  "orig_nbformat": 4
 },
 "nbformat": 4,
 "nbformat_minor": 2
}
