{
 "cells": [
  {
   "cell_type": "markdown",
   "metadata": {},
   "source": [
    "##### 클라이언트 연결 대기"
   ]
  },
  {
   "cell_type": "code",
   "execution_count": 72,
   "metadata": {},
   "outputs": [
    {
     "name": "stdout",
     "output_type": "stream",
     "text": [
      "Connected.\n",
      "('127.0.0.1', 59805)\n"
     ]
    }
   ],
   "source": [
    "from mytool import connection_for_server\n",
    "\n",
    "with_client = connection_for_server()"
   ]
  },
  {
   "cell_type": "code",
   "execution_count": 66,
   "metadata": {},
   "outputs": [],
   "source": [
    "import requests\n",
    "\n",
    "# \"http://192.168.0.57:8090/shot.jpg\"\n",
    "def download_image(image_url, save_path):\n",
    "    res = requests.get(image_url, stream=True)\n",
    "    if res.status_code==200:\n",
    "        with open(save_path, 'wb') as f:\n",
    "            f.write(res.content)\n",
    "        "
   ]
  },
  {
   "cell_type": "code",
   "execution_count": null,
   "metadata": {},
   "outputs": [],
   "source": [
    "SOURCE_PATH = \"./temp/shot.jpg\"\n",
    "IMAGE_URL = \"http://192.168.0.57:8090/shot.jpg\"\n",
    "\n",
    "import time\n",
    "for i in range(10):\n",
    "    download_image(IMAGE_URL, SOURCE_PATH)\n",
    "    with_client.send(b'hello')\n",
    "    time.sleep(2)"
   ]
  },
  {
   "cell_type": "code",
   "execution_count": 71,
   "metadata": {},
   "outputs": [
    {
     "data": {
      "text/plain": [
       "5"
      ]
     },
     "execution_count": 71,
     "metadata": {},
     "output_type": "execute_result"
    }
   ],
   "source": [
    "SOURCE_PATH = \"./temp/shot.jpg\"\n",
    "IMAGE_URL = \"http://192.168.0.57:8090/shot.jpg\"\n",
    "\n",
    "download_image(IMAGE_URL, SOURCE_PATH)\n",
    "with_client.send(b'hello')"
   ]
  },
  {
   "cell_type": "code",
   "execution_count": null,
   "metadata": {},
   "outputs": [],
   "source": [
    "with_client.settimeout(3)\n",
    "try:\n",
    "    data = with_client.recv(1024)\n",
    "    print(data)\n",
    "except sk.timeout as e:\n",
    "    print(e)"
   ]
  },
  {
   "cell_type": "code",
   "execution_count": null,
   "metadata": {},
   "outputs": [],
   "source": []
  }
 ],
 "metadata": {
  "interpreter": {
   "hash": "57f3a4084d9bbea5e2496975c38f9f0c4e2cb16976f2cda4d07e2a8c664c7c73"
  },
  "kernelspec": {
   "display_name": "Python 3.8.10 ('myyolo')",
   "language": "python",
   "name": "python3"
  },
  "language_info": {
   "codemirror_mode": {
    "name": "ipython",
    "version": 3
   },
   "file_extension": ".py",
   "mimetype": "text/x-python",
   "name": "python",
   "nbconvert_exporter": "python",
   "pygments_lexer": "ipython3",
   "version": "3.8.10"
  },
  "orig_nbformat": 4
 },
 "nbformat": 4,
 "nbformat_minor": 2
}
