{
 "cells": [
  {
   "cell_type": "code",
   "execution_count": null,
   "id": "15e1b808-196a-4c7a-8086-9140f9f40dc1",
   "metadata": {},
   "outputs": [],
   "source": [
    "import cv2\n",
    "import time\n",
    "from IPython.display import clear_output\n",
    "import numpy as np\n",
    "import requests"
   ]
  },
  {
   "cell_type": "code",
   "execution_count": null,
   "id": "c5b4afe4-544e-4273-b7e3-b112a04e61d2",
   "metadata": {},
   "outputs": [],
   "source": [
    "# cap = cv2.VideoCapture('http://192.168.0.57:8090/video')\n",
    "# cap = cv2.VideoCapture('http://192.168.0.57:8090/shot.jpg')\n",
    "\n",
    "\n",
    "while True:\n",
    "    # success, image = cap.read()\n",
    "    image = cv2.imread('http://192.168.0.57:8090/shot.jpg')\n",
    "    cv2.imshow('test', image)\n",
    "    time.sleep(1)\n",
    "    if cv2.waitKey(5) & 0xFF == ord('q'):\n",
    "        break\n",
    "cv2.destroyAllWindows()\n",
    "# cap.release()"
   ]
  },
  {
   "cell_type": "code",
   "execution_count": null,
   "id": "3d6543be-c7cc-45e9-9fd2-bd49028b0562",
   "metadata": {},
   "outputs": [],
   "source": [
    "import socket as sk\n",
    "\n",
    "def connection():\n",
    "    HOST = '127.0.0.1'\n",
    "    # HOST = '192.168.0.10'\n",
    "    PORT = 8888\n",
    "    client = sk.socket(sk.AF_INET, sk.SOCK_STREAM)\n",
    "    client.connect((HOST, PORT))\n",
    "    print('Connected.')\n",
    "    return client\n",
    "\n",
    "client = connection()"
   ]
  }
 ],
 "metadata": {
  "kernelspec": {
   "display_name": "Python 3 (ipykernel)",
   "language": "python",
   "name": "python3"
  },
  "language_info": {
   "codemirror_mode": {
    "name": "ipython",
    "version": 3
   },
   "file_extension": ".py",
   "mimetype": "text/x-python",
   "name": "python",
   "nbconvert_exporter": "python",
   "pygments_lexer": "ipython3",
   "version": "3.8.10"
  }
 },
 "nbformat": 4,
 "nbformat_minor": 5
}
