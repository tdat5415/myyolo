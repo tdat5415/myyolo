{
 "cells": [
  {
   "cell_type": "code",
   "execution_count": 11,
   "id": "15e1b808-196a-4c7a-8086-9140f9f40dc1",
   "metadata": {},
   "outputs": [],
   "source": [
    "import cv2\n",
    "import time\n",
    "from IPython.display import clear_output\n",
    "import numpy as np\n",
    "import requests"
   ]
  },
  {
   "cell_type": "code",
   "execution_count": 26,
   "id": "22f07203",
   "metadata": {},
   "outputs": [],
   "source": [
    "data = requests.get('http://192.168.0.57:8090/shot.jpg', stream=True)\n",
    "# print(data.content)\n",
    "img = np.asarray(bytearray(data.content), dtype=np.uint8)"
   ]
  },
  {
   "cell_type": "code",
   "execution_count": 28,
   "id": "91842b94",
   "metadata": {},
   "outputs": [
    {
     "data": {
      "text/plain": [
       "(61442,)"
      ]
     },
     "execution_count": 28,
     "metadata": {},
     "output_type": "execute_result"
    }
   ],
   "source": [
    "img.shape"
   ]
  },
  {
   "cell_type": "code",
   "execution_count": 6,
   "id": "c5b4afe4-544e-4273-b7e3-b112a04e61d2",
   "metadata": {},
   "outputs": [
    {
     "ename": "error",
     "evalue": "OpenCV(4.5.5) D:\\a\\opencv-python\\opencv-python\\opencv\\modules\\imgproc\\src\\color.cpp:182: error: (-215:Assertion failed) !_src.empty() in function 'cv::cvtColor'\n",
     "output_type": "error",
     "traceback": [
      "\u001b[1;31m---------------------------------------------------------------------------\u001b[0m",
      "\u001b[1;31merror\u001b[0m                                     Traceback (most recent call last)",
      "\u001b[1;32mc:\\_MAIN\\SPACE\\myyolo\\test.ipynb Cell 2'\u001b[0m in \u001b[0;36m<module>\u001b[1;34m\u001b[0m\n\u001b[0;32m      <a href='vscode-notebook-cell:/c%3A/_MAIN/SPACE/myyolo/test.ipynb#ch0000001?line=2'>3</a>\u001b[0m \u001b[39mwhile\u001b[39;00m \u001b[39mTrue\u001b[39;00m:\n\u001b[0;32m      <a href='vscode-notebook-cell:/c%3A/_MAIN/SPACE/myyolo/test.ipynb#ch0000001?line=3'>4</a>\u001b[0m     \u001b[39m# success, image = cap.read()\u001b[39;00m\n\u001b[0;32m      <a href='vscode-notebook-cell:/c%3A/_MAIN/SPACE/myyolo/test.ipynb#ch0000001?line=4'>5</a>\u001b[0m     image \u001b[39m=\u001b[39m cv2\u001b[39m.\u001b[39mimread(\u001b[39m'\u001b[39m\u001b[39mhttp://192.168.0.57:8090/shot.jpg\u001b[39m\u001b[39m'\u001b[39m)\n\u001b[1;32m----> <a href='vscode-notebook-cell:/c%3A/_MAIN/SPACE/myyolo/test.ipynb#ch0000001?line=5'>6</a>\u001b[0m     cv2\u001b[39m.\u001b[39;49mimshow(\u001b[39m'\u001b[39;49m\u001b[39mtest\u001b[39;49m\u001b[39m'\u001b[39;49m, image)\n\u001b[0;32m      <a href='vscode-notebook-cell:/c%3A/_MAIN/SPACE/myyolo/test.ipynb#ch0000001?line=6'>7</a>\u001b[0m     time\u001b[39m.\u001b[39msleep(\u001b[39m1\u001b[39m)\n\u001b[0;32m      <a href='vscode-notebook-cell:/c%3A/_MAIN/SPACE/myyolo/test.ipynb#ch0000001?line=7'>8</a>\u001b[0m     \u001b[39mif\u001b[39;00m cv2\u001b[39m.\u001b[39mwaitKey(\u001b[39m5\u001b[39m) \u001b[39m&\u001b[39m \u001b[39m0xFF\u001b[39m \u001b[39m==\u001b[39m \u001b[39mord\u001b[39m(\u001b[39m'\u001b[39m\u001b[39mq\u001b[39m\u001b[39m'\u001b[39m):\n",
      "\u001b[1;31merror\u001b[0m: OpenCV(4.5.5) D:\\a\\opencv-python\\opencv-python\\opencv\\modules\\imgproc\\src\\color.cpp:182: error: (-215:Assertion failed) !_src.empty() in function 'cv::cvtColor'\n"
     ]
    }
   ],
   "source": [
    "# cap = cv2.VideoCapture('http://192.168.0.57:8090/video')\n",
    "# cap = cv2.VideoCapture('http://192.168.0.57:8090/shot.jpg')\n",
    "\n",
    "\n",
    "while True:\n",
    "    # success, image = cap.read()\n",
    "    image = cv2.imread('http://192.168.0.57:8090/shot.jpg')\n",
    "    cv2.imshow('test', image)\n",
    "    time.sleep(1)\n",
    "    if cv2.waitKey(5) & 0xFF == ord('q'):\n",
    "        break\n",
    "cv2.destroyAllWindows()\n",
    "cap.release()"
   ]
  },
  {
   "cell_type": "code",
   "execution_count": 7,
   "id": "54af8a56-57f8-4670-998e-7667367453d4",
   "metadata": {},
   "outputs": [],
   "source": [
    "cv2.destroyAllWindows()\n",
    "cap.release()"
   ]
  },
  {
   "cell_type": "code",
   "execution_count": 9,
   "id": "9e4c6222",
   "metadata": {},
   "outputs": [
    {
     "name": "stdout",
     "output_type": "stream",
     "text": [
      "None\n"
     ]
    }
   ],
   "source": [
    "aa = cv2.imread('http://192.168.0.57:8090/shot.jpg')\n",
    "print(aa)"
   ]
  },
  {
   "cell_type": "code",
   "execution_count": 35,
   "id": "3d6543be-c7cc-45e9-9fd2-bd49028b0562",
   "metadata": {},
   "outputs": [
    {
     "name": "stdout",
     "output_type": "stream",
     "text": [
      "Connected.\n"
     ]
    }
   ],
   "source": [
    "import socket as sk\n",
    "\n",
    "\n",
    "def connection():\n",
    "    HOST = '127.0.0.1'\n",
    "    # HOST = '192.168.0.10'\n",
    "    PORT = 8888\n",
    "    client = sk.socket(sk.AF_INET, sk.SOCK_STREAM)\n",
    "    client.connect((HOST, PORT))\n",
    "    print('Connected.')\n",
    "    return client\n",
    "\n",
    "client = connection()"
   ]
  },
  {
   "cell_type": "code",
   "execution_count": 44,
   "id": "083308d7-4755-41dd-abf5-649a4ca9f7e6",
   "metadata": {},
   "outputs": [
    {
     "data": {
      "text/plain": [
       "4"
      ]
     },
     "execution_count": 44,
     "metadata": {},
     "output_type": "execute_result"
    }
   ],
   "source": [
    "client.send(b'hihi')"
   ]
  },
  {
   "cell_type": "code",
   "execution_count": 39,
   "id": "7d5c2b24-8a77-43b8-9bae-1d47368e889c",
   "metadata": {},
   "outputs": [
    {
     "name": "stdout",
     "output_type": "stream",
     "text": [
      "b'hello'\n"
     ]
    }
   ],
   "source": [
    "client.settimeout(3)\n",
    "try:\n",
    "    data = client.recv(1024)\n",
    "    print(data)\n",
    "except sk.timeout as e:\n",
    "    print(e)"
   ]
  }
 ],
 "metadata": {
  "kernelspec": {
   "display_name": "Python 3 (ipykernel)",
   "language": "python",
   "name": "python3"
  },
  "language_info": {
   "codemirror_mode": {
    "name": "ipython",
    "version": 3
   },
   "file_extension": ".py",
   "mimetype": "text/x-python",
   "name": "python",
   "nbconvert_exporter": "python",
   "pygments_lexer": "ipython3",
   "version": "3.8.10"
  }
 },
 "nbformat": 4,
 "nbformat_minor": 5
}
